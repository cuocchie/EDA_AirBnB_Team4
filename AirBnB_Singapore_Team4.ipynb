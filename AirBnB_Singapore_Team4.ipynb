{
  "cells": [
    {
      "cell_type": "markdown",
      "metadata": {
        "colab_type": "text",
        "id": "KXw_htt7jJub"
      },
      "source": [
        "Setup the environment variables"
      ]
    },
    {
      "cell_type": "code",
      "execution_count": 1,
      "metadata": {
        "colab": {},
        "colab_type": "code",
        "id": "nefgCOpI0dB6"
      },
      "outputs": [
        {
          "name": "stderr",
          "output_type": "stream",
          "text": [
            "WARNING: An illegal reflective access operation has occurred\n",
            "WARNING: Illegal reflective access by org.apache.spark.unsafe.Platform (file:/opt/spark/jars/spark-unsafe_2.12-3.2.1.jar) to constructor java.nio.DirectByteBuffer(long,int)\n",
            "WARNING: Please consider reporting this to the maintainers of org.apache.spark.unsafe.Platform\n",
            "WARNING: Use --illegal-access=warn to enable warnings of further illegal reflective access operations\n",
            "WARNING: All illegal access operations will be denied in a future release\n",
            "Setting default log level to \"WARN\".\n",
            "To adjust logging level use sc.setLogLevel(newLevel). For SparkR, use setLogLevel(newLevel).\n",
            "2022-04-10 22:26:24,904 WARN util.NativeCodeLoader: Unable to load native-hadoop library for your platform... using builtin-java classes where applicable\n",
            "2022-04-10 22:26:25,831 WARN util.Utils: Service 'SparkUI' could not bind on port 4040. Attempting port 4041.\n",
            "2022-04-10 22:26:25,832 WARN util.Utils: Service 'SparkUI' could not bind on port 4041. Attempting port 4042.\n",
            "2022-04-10 22:26:25,832 WARN util.Utils: Service 'SparkUI' could not bind on port 4042. Attempting port 4043.\n"
          ]
        }
      ],
      "source": [
        "import findspark\n",
        "findspark.init()\n",
        "from pyspark.sql import SparkSession\n",
        "from pyspark.sql import functions\n",
        "from pyspark.sql.functions import col, avg\n",
        "import seaborn as sns\n",
        "spark = SparkSession \\\n",
        "    .builder \\\n",
        "    .appName(\"Singapore-Airbnb-B\") \\\n",
        "    .master(\"spark://10.10.28.10:7077\") \\\n",
        "    .config(\"spark.cores.max\", 10) \\\n",
        "    .getOrCreate()"
      ]
    },
    {
      "cell_type": "code",
      "execution_count": 2,
      "metadata": {
        "colab": {},
        "colab_type": "code",
        "id": "ekK1Dyei2FFD"
      },
      "outputs": [
        {
          "name": "stderr",
          "output_type": "stream",
          "text": [
            "                                                                                \r"
          ]
        }
      ],
      "source": [
        "file_loc = \"/user/team4/listings.csv\"\n",
        "airbnb_schema = spark.read.csv(file_loc, inferSchema=True, header=True, multiLine=True, quote='\"', escape='\"')"
      ]
    },
    {
      "cell_type": "code",
      "execution_count": 3,
      "metadata": {
        "colab": {
          "base_uri": "https://localhost:8080/",
          "height": 490
        },
        "colab_type": "code",
        "id": "kRh8AtHl2aK4",
        "outputId": "2f5b38f9-4266-4f68-f124-745df9062bbd"
      },
      "outputs": [
        {
          "name": "stderr",
          "output_type": "stream",
          "text": [
            "                                                                                \r"
          ]
        },
        {
          "name": "stdout",
          "output_type": "stream",
          "text": [
            "+------+--------------------+-------+---------+-------------------+-------------+--------+---------+---------------+-----+--------------+-----------------+-----------+-----------------+------------------------------+----------------+---------------------+-------+\n",
            "|    id|                name|host_id|host_name|neighbourhood_group|neighbourhood|latitude|longitude|      room_type|price|minimum_nights|number_of_reviews|last_review|reviews_per_month|calculated_host_listings_count|availability_365|number_of_reviews_ltm|license|\n",
            "+------+--------------------+-------+---------+-------------------+-------------+--------+---------+---------------+-----+--------------+-----------------+-----------+-----------------+------------------------------+----------------+---------------------+-------+\n",
            "| 50646|Pleasant Room alo...| 227796|  Sujatha|     Central Region|  Bukit Timah| 1.33432|103.78521|   Private room|   80|            90|               18| 2014-12-26|             0.19|                             1|             365|                    0|   null|\n",
            "| 71609|Ensuite Room (Roo...| 367042|  Belinda|        East Region|     Tampines| 1.34537|103.95887|   Private room|  179|            92|               20| 2020-01-17|             0.16|                             5|             365|                    0|   null|\n",
            "| 71896|B&B  Room 1 near ...| 367042|  Belinda|        East Region|     Tampines| 1.34754|103.95958|   Private room|   82|            92|               24| 2019-10-13|             0.19|                             5|             365|                    0|   null|\n",
            "| 71903|Room 2-near Airpo...| 367042|  Belinda|        East Region|     Tampines| 1.34531|  103.961|   Private room|   82|            92|               47| 2020-01-09|             0.36|                             5|             365|                    0|   null|\n",
            "|275343|Conveniently loca...|1439258|    Joyce|     Central Region|  Bukit Merah| 1.29015|103.80814|   Private room|   52|            14|               20| 2020-04-17|             0.19|                            16|             341|                    0|  S0399|\n",
            "|275344|15 mins to Outram...|1439258|    Joyce|     Central Region|  Bukit Merah| 1.28836|103.81144|   Private room|   40|            14|               13| 2020-12-27|             0.11|                            16|             324|                    1|  S0399|\n",
            "|294281|5 mins walk from ...|1521514|Elizabeth|     Central Region|       Newton| 1.31142|103.83924|   Private room|   72|            90|              133| 2020-01-21|              1.1|                             7|             365|                    0|   null|\n",
            "|324945|20 Mins to Sentos...|1439258|    Joyce|     Central Region|  Bukit Merah| 1.28828| 103.8102|   Private room|   49|            14|               14| 2019-09-28|             0.12|                            16|             355|                    0|  S0399|\n",
            "|330089|Accomo@ REDHILL-I...|1439258|    Joyce|     Central Region|  Bukit Merah| 1.28652|103.81225|   Private room|   59|            30|               10| 2019-04-27|              0.1|                            16|             343|                    0|  S0399|\n",
            "|330095|10 mins to Redhil...|1439258|    Joyce|     Central Region|  Bukit Merah| 1.28636|103.81138|   Private room|   59|            60|                3| 2016-08-22|             0.03|                            16|             364|                    0|  S0399|\n",
            "|344803|Budget short stay...| 367042|  Belinda|        East Region|     Tampines| 1.34917| 103.9609|   Private room|   48|            92|               58| 2020-02-10|             0.49|                             5|             365|                    0|   null|\n",
            "|355955|Double room in an...|1759905|   Aresha|     Central Region|      Geylang| 1.31374| 103.9019|   Private room|   65|            90|                0|       null|             null|                             1|             174|                    0|   null|\n",
            "|369141|5mins from Newton...|1521514|Elizabeth|     Central Region|       Newton| 1.31144|103.83784|   Private room|   69|             3|               81| 2020-01-04|             0.81|                             7|             359|                    0|   null|\n",
            "|369145|5 mins walk from ...|1521514|Elizabeth|     Central Region|       Newton| 1.31129|103.83788|   Private room|   66|             3|              165| 2020-01-10|              1.4|                             7|             330|                    0|   null|\n",
            "|395191|Heritage Apartmen...|1975201|      Adi|     Central Region| River Valley| 1.29335|103.83768|   Private room|   59|            93|               27| 2017-08-07|             0.26|                             1|               1|                    0|   null|\n",
            "|481789|Master Bedroom in...|2386154|    Susan|        East Region|     Tampines| 1.34816|103.93238|   Private room|   37|           180|                0|       null|             null|                             1|               0|                    0|   null|\n",
            "|604966|Boutique 1 bedroo...|2996022| Frederic|     Central Region|  Bukit Timah| 1.33242|103.79417|Entire home/apt|  271|             4|               11| 2018-01-07|              0.1|                             1|             362|                    0|   null|\n",
            "|606784|Ensuite room, poo...| 813925|    Happy|        East Region|     Tampines| 1.34361|103.95717|   Private room|   83|            90|               80| 2020-02-07|             0.89|                             1|              91|                    0|   null|\n",
            "|642660|BEST CITY LIVING ...|3212572|    Roger|     Central Region|       Rochor| 1.30096|103.85206|   Private room|  163|           180|                0|       null|             null|                             1|             365|                    0|   null|\n",
            "|696136|Quiet ensuite roo...|1289033|    Grace|     Central Region|  Bukit Timah| 1.30938|103.79812|   Private room|  100|            90|               28| 2017-08-12|             0.25|                             1|              90|                    0|   null|\n",
            "+------+--------------------+-------+---------+-------------------+-------------+--------+---------+---------------+-----+--------------+-----------------+-----------+-----------------+------------------------------+----------------+---------------------+-------+\n",
            "only showing top 20 rows\n",
            "\n"
          ]
        },
        {
          "name": "stderr",
          "output_type": "stream",
          "text": [
            "[Stage 3:>                                                          (0 + 1) / 1]\r"
          ]
        },
        {
          "name": "stdout",
          "output_type": "stream",
          "text": [
            "Total number of records in the dataset -  3672\n"
          ]
        },
        {
          "name": "stderr",
          "output_type": "stream",
          "text": [
            "                                                                                \r"
          ]
        }
      ],
      "source": [
        "airbnb_schema.show()\n",
        "print(\"Total number of records in the dataset - \", airbnb_schema.count())"
      ]
    },
    {
      "cell_type": "markdown",
      "metadata": {
        "colab_type": "text",
        "id": "GtYIymq5LrwA"
      },
      "source": [
        "**8. Print the dataset schema to understand the type of data we are dealing with.**"
      ]
    },
    {
      "cell_type": "code",
      "execution_count": 4,
      "metadata": {
        "colab": {
          "base_uri": "https://localhost:8080/",
          "height": 319
        },
        "colab_type": "code",
        "id": "hrlLScdlIt4B",
        "outputId": "5cc21534-cb23-4d38-d125-e015b1828e22"
      },
      "outputs": [
        {
          "name": "stdout",
          "output_type": "stream",
          "text": [
            "root\n",
            " |-- id: integer (nullable = true)\n",
            " |-- name: string (nullable = true)\n",
            " |-- host_id: integer (nullable = true)\n",
            " |-- host_name: string (nullable = true)\n",
            " |-- neighbourhood_group: string (nullable = true)\n",
            " |-- neighbourhood: string (nullable = true)\n",
            " |-- latitude: double (nullable = true)\n",
            " |-- longitude: double (nullable = true)\n",
            " |-- room_type: string (nullable = true)\n",
            " |-- price: integer (nullable = true)\n",
            " |-- minimum_nights: integer (nullable = true)\n",
            " |-- number_of_reviews: integer (nullable = true)\n",
            " |-- last_review: string (nullable = true)\n",
            " |-- reviews_per_month: double (nullable = true)\n",
            " |-- calculated_host_listings_count: integer (nullable = true)\n",
            " |-- availability_365: integer (nullable = true)\n",
            " |-- number_of_reviews_ltm: integer (nullable = true)\n",
            " |-- license: string (nullable = true)\n",
            "\n"
          ]
        }
      ],
      "source": [
        "airbnb_schema.printSchema()"
      ]
    },
    {
      "cell_type": "code",
      "execution_count": 5,
      "metadata": {
        "colab": {
          "base_uri": "https://localhost:8080/",
          "height": 302
        },
        "colab_type": "code",
        "id": "0QpdKiLFIxyq",
        "outputId": "e347275d-fd9c-4340-9b7a-087d923e720b"
      },
      "outputs": [
        {
          "name": "stdout",
          "output_type": "stream",
          "text": [
            "Count of null values for each feature: \n"
          ]
        },
        {
          "name": "stderr",
          "output_type": "stream",
          "text": [
            "                                                                                \r"
          ]
        },
        {
          "name": "stdout",
          "output_type": "stream",
          "text": [
            "id :  0\n",
            "name :  0\n",
            "host_id :  0\n",
            "host_name :  11\n",
            "neighbourhood_group :  0\n",
            "neighbourhood :  0\n",
            "latitude :  0\n",
            "longitude :  0\n",
            "room_type :  0\n",
            "price :  0\n",
            "minimum_nights :  0\n",
            "number_of_reviews :  0\n",
            "last_review :  1628\n",
            "reviews_per_month :  1628\n",
            "calculated_host_listings_count :  0\n",
            "availability_365 :  0\n",
            "number_of_reviews_ltm :  0\n",
            "license :  3019\n"
          ]
        }
      ],
      "source": [
        "# Check for count of null values in each column of the dataframe.\n",
        "print(\"Count of null values for each feature: \")\n",
        "for col in airbnb_schema.columns:\n",
        "  print(col, \": \", airbnb_schema.where(airbnb_schema[col].isNull()).count())"
      ]
    },
    {
      "cell_type": "markdown",
      "metadata": {
        "colab_type": "text",
        "id": "fA5adqdtKMgd"
      },
      "source": [
        "**We see that there are a lot of nulls by observing the first 20 rows of the dataset above. So, we checked the count of null values in each column of the dataset.**"
      ]
    },
    {
      "cell_type": "markdown",
      "metadata": {
        "colab_type": "text",
        "id": "Dal1gJWWlt57"
      },
      "source": [
        "**10. Drop some columns which are not important for analyzing the data.**"
      ]
    },
    {
      "cell_type": "code",
      "execution_count": 6,
      "metadata": {
        "colab": {},
        "colab_type": "code",
        "id": "j2XcU-rDYg0E"
      },
      "outputs": [],
      "source": [
        "airbnb_schema = airbnb_schema.drop(\"id\", \"host_name\", \"last_review\")"
      ]
    },
    {
      "cell_type": "markdown",
      "metadata": {
        "colab_type": "text",
        "id": "k35vQcrVlzIi"
      },
      "source": [
        "**11. Clean the null values from review_per_month column . We will replace all the null values with zero as \"null\" reviews_per_month means there were 0 reviews.**"
      ]
    },
    {
      "cell_type": "code",
      "execution_count": 7,
      "metadata": {
        "colab": {
          "base_uri": "https://localhost:8080/",
          "height": 50
        },
        "colab_type": "code",
        "id": "-dfNMFn2StWL",
        "outputId": "edabafc3-b5e4-4366-c56c-7025852d43d0"
      },
      "outputs": [
        {
          "name": "stdout",
          "output_type": "stream",
          "text": [
            "Number of nulls after cleanup in column 'reviews_per_month' - \n"
          ]
        },
        {
          "data": {
            "text/plain": [
              "0"
            ]
          },
          "execution_count": 7,
          "metadata": {},
          "output_type": "execute_result"
        }
      ],
      "source": [
        "airbnb_schema = airbnb_schema.na.fill(0, [\"reviews_per_month\"])\n",
        "print(\"Number of nulls after cleanup in column 'reviews_per_month' - \")\n",
        "airbnb_schema.where(airbnb_schema['reviews_per_month'].isNull()).count()"
      ]
    },
    {
      "cell_type": "markdown",
      "metadata": {
        "colab_type": "text",
        "id": "T-sZgP5XmLd9"
      },
      "source": [
        "**12. Analyze the host id field.** \n",
        "\n",
        "Count the number of listings for each host ID.\n",
        "\n",
        "Sort the results in descending order, so we can see the top 20 hosts."
      ]
    },
    {
      "cell_type": "code",
      "execution_count": 8,
      "metadata": {
        "colab": {
          "base_uri": "https://localhost:8080/",
          "height": 454
        },
        "colab_type": "code",
        "id": "fxkRnHpJWFpt",
        "outputId": "841f26d8-851c-4154-ae29-6882437044d8"
      },
      "outputs": [
        {
          "name": "stdout",
          "output_type": "stream",
          "text": [
            "+---------+-----+\n",
            "|  host_id|count|\n",
            "+---------+-----+\n",
            "|138649185|  199|\n",
            "|156409670|  179|\n",
            "| 66406177|  138|\n",
            "|238891646|  126|\n",
            "|  2413412|   86|\n",
            "| 23722617|   77|\n",
            "|  8948251|   65|\n",
            "|108773366|   59|\n",
            "| 23336011|   55|\n",
            "|101145755|   51|\n",
            "| 97878860|   50|\n",
            "| 45877399|   47|\n",
            "| 32798595|   45|\n",
            "|201775246|   41|\n",
            "| 24496358|   37|\n",
            "| 68059127|   34|\n",
            "|374499296|   33|\n",
            "|148161755|   30|\n",
            "| 20883050|   27|\n",
            "|279311966|   20|\n",
            "+---------+-----+\n",
            "only showing top 20 rows\n",
            "\n"
          ]
        }
      ],
      "source": [
        "host_id_schema = airbnb_schema.groupBy(airbnb_schema[\"host_id\"]).count()\n",
        "host_id_schema.orderBy(host_id_schema[\"count\"].desc()).show()"
      ]
    },
    {
      "cell_type": "markdown",
      "metadata": {
        "colab_type": "text",
        "id": "zErCxG6tDJlR"
      },
      "source": [
        "**The above analysis shows that the top host (host_id = 138649185) has 199 listings and also there is a good spread in the number of listings with each host.**\n",
        "\n",
        "**We can confirm this finding by checking the 'calculated_host_listings_count' column which has a maximum value of 199.**"
      ]
    },
    {
      "cell_type": "markdown",
      "metadata": {
        "colab_type": "text",
        "id": "2gwFLUyRmmMB"
      },
      "source": [
        "**13. Check the max value from calculated_host_listings_count column**"
      ]
    },
    {
      "cell_type": "code",
      "execution_count": 9,
      "metadata": {
        "colab": {
          "base_uri": "https://localhost:8080/",
          "height": 118
        },
        "colab_type": "code",
        "id": "9kUXttz_Xh2c",
        "outputId": "b121ae2f-2bae-41da-fac2-1532e8bd6fdf"
      },
      "outputs": [
        {
          "name": "stdout",
          "output_type": "stream",
          "text": [
            "+-----------------------------------+\n",
            "|max(calculated_host_listings_count)|\n",
            "+-----------------------------------+\n",
            "|                                199|\n",
            "+-----------------------------------+\n",
            "\n"
          ]
        }
      ],
      "source": [
        "# Check the max value from calculated_host_listings_count column\n",
        "from pyspark.sql import functions as F\n",
        "airbnb_schema.agg(F.max(airbnb_schema[\"calculated_host_listings_count\"])).show()"
      ]
    },
    {
      "cell_type": "markdown",
      "metadata": {
        "colab_type": "text",
        "id": "C7_DHZFcMgkh"
      },
      "source": [
        "**14. Counting the number of unique listings:**\n",
        "\n",
        "There are 3350 unique listings in the dataset."
      ]
    },
    {
      "cell_type": "code",
      "execution_count": 10,
      "metadata": {
        "colab": {
          "base_uri": "https://localhost:8080/",
          "height": 34
        },
        "colab_type": "code",
        "id": "Ok0iFRyvw_YZ",
        "outputId": "b8de462c-fa2b-43e7-8c86-57a6b2b4647b"
      },
      "outputs": [
        {
          "data": {
            "text/plain": [
              "3350"
            ]
          },
          "execution_count": 10,
          "metadata": {},
          "output_type": "execute_result"
        }
      ],
      "source": [
        "airbnb_schema.select(\"name\").distinct().count()"
      ]
    },
    {
      "cell_type": "markdown",
      "metadata": {
        "colab_type": "text",
        "id": "w6xB4qlKyrU1"
      },
      "source": [
        "**15. Distinct neighbourhood group count**"
      ]
    },
    {
      "cell_type": "code",
      "execution_count": 11,
      "metadata": {
        "colab": {
          "base_uri": "https://localhost:8080/",
          "height": 34
        },
        "colab_type": "code",
        "id": "DjrlDrD3kY-P",
        "outputId": "31604071-ef17-4aa0-abe5-595d59e417be"
      },
      "outputs": [
        {
          "data": {
            "text/plain": [
              "5"
            ]
          },
          "execution_count": 11,
          "metadata": {},
          "output_type": "execute_result"
        }
      ],
      "source": [
        "airbnb_schema.select(\"neighbourhood_group\").distinct().count()"
      ]
    },
    {
      "cell_type": "markdown",
      "metadata": {
        "colab_type": "text",
        "id": "pOU4oJ9ry_cO"
      },
      "source": [
        "**16. Distinct neighbourhood group**"
      ]
    },
    {
      "cell_type": "code",
      "execution_count": 12,
      "metadata": {
        "colab": {
          "base_uri": "https://localhost:8080/",
          "height": 185
        },
        "colab_type": "code",
        "id": "W5WoRy7Lypys",
        "outputId": "54bb0053-c21a-46b1-b018-0a0160275769"
      },
      "outputs": [
        {
          "name": "stdout",
          "output_type": "stream",
          "text": [
            "+-------------------+-----+\n",
            "|neighbourhood_group|count|\n",
            "+-------------------+-----+\n",
            "|        West Region|  269|\n",
            "|     Central Region| 2909|\n",
            "|       North Region|  105|\n",
            "|        East Region|  249|\n",
            "|  North-East Region|  140|\n",
            "+-------------------+-----+\n",
            "\n"
          ]
        }
      ],
      "source": [
        "neighbourhood_group_data = airbnb_schema.groupby(\"neighbourhood_group\").count()\n",
        "neighbourhood_group_data.show()"
      ]
    },
    {
      "cell_type": "markdown",
      "metadata": {
        "colab_type": "text",
        "id": "WpzciL7xQEhV"
      },
      "source": [
        "**17 Showing the above data as a pie chart to understand the division clearly.**"
      ]
    },
    {
      "cell_type": "code",
      "execution_count": 13,
      "metadata": {
        "colab": {
          "base_uri": "https://localhost:8080/",
          "height": 373
        },
        "colab_type": "code",
        "id": "r0A8kixUQWc6",
        "outputId": "f75fb8ad-aef4-4e42-e7ec-20447f90b18f"
      },
      "outputs": [
        {
          "data": {
            "image/png": "[encoded data removed]",
            "text/plain": [
              "<Figure size 1152x432 with 1 Axes>"
            ]
          },
          "metadata": {},
          "output_type": "display_data"
        }
      ],
      "source": [
        "import pandas as pd\n",
        "neighbourhood_group_data_pd = neighbourhood_group_data.toPandas()\n",
        "neighbourhood_group_data_pd.index = neighbourhood_group_data_pd['neighbourhood_group']\n",
        "plt = neighbourhood_group_data_pd.plot.pie(y='count', autopct='%1.1f%%', legend = False, title='Listings by Neighbourhood Groups', figsize=(16,6))\n"
      ]
    },
    {
      "cell_type": "markdown",
      "metadata": {
        "colab_type": "text",
        "id": "OqQV-RXEy9PU"
      },
      "source": [
        "**18. Distinct neighbourhood count**"
      ]
    },
    {
      "cell_type": "code",
      "execution_count": 14,
      "metadata": {
        "colab": {
          "base_uri": "https://localhost:8080/",
          "height": 34
        },
        "colab_type": "code",
        "id": "pjOZQOzq0oUt",
        "outputId": "dd2baae6-3b69-481b-c624-c61a63b6e00c"
      },
      "outputs": [
        {
          "data": {
            "text/plain": [
              "44"
            ]
          },
          "execution_count": 14,
          "metadata": {},
          "output_type": "execute_result"
        }
      ],
      "source": [
        "airbnb_schema.select(\"neighbourhood\").distinct().count()"
      ]
    },
    {
      "cell_type": "markdown",
      "metadata": {
        "colab_type": "text",
        "id": "tPP8Tk460kqK"
      },
      "source": [
        "**19. Distinct neighbourhood**"
      ]
    },
    {
      "cell_type": "code",
      "execution_count": 15,
      "metadata": {
        "colab": {
          "base_uri": "https://localhost:8080/",
          "height": 454
        },
        "colab_type": "code",
        "id": "_JZ5BMyAyzuV",
        "outputId": "c8d172b6-b019-443c-945a-97fe28600c73"
      },
      "outputs": [
        {
          "name": "stdout",
          "output_type": "stream",
          "text": [
            "+--------------------+-----+\n",
            "|       neighbourhood|count|\n",
            "+--------------------+-----+\n",
            "|             Geylang|  340|\n",
            "|                Tuas|    1|\n",
            "|Central Water Cat...|   12|\n",
            "|         Jurong West|   59|\n",
            "|        Sungei Kadut|    1|\n",
            "|              Rochor|  270|\n",
            "|             Orchard|   80|\n",
            "|         Bukit Merah|  178|\n",
            "|               Bedok|  186|\n",
            "|Western Water Cat...|    3|\n",
            "|             Tanglin|   90|\n",
            "|              Newton|   57|\n",
            "|           Woodlands|   44|\n",
            "|        Lim Chu Kang|    1|\n",
            "|         Bukit Timah|   56|\n",
            "|        River Valley|  149|\n",
            "|          Queenstown|  143|\n",
            "|        Marina South|    3|\n",
            "|           Serangoon|   35|\n",
            "|             Kallang|  405|\n",
            "+--------------------+-----+\n",
            "only showing top 20 rows\n",
            "\n"
          ]
        }
      ],
      "source": [
        "airbnb_schema.groupby(\"neighbourhood\").count().show()"
      ]
    },
    {
      "cell_type": "code",
      "execution_count": 16,
      "metadata": {
        "colab": {
          "base_uri": "https://localhost:8080/",
          "height": 202
        },
        "colab_type": "code",
        "id": "Fz8rWZb0Ws6f",
        "outputId": "0a7e9685-9746-4b2a-c994-58e08e81addb"
      },
      "outputs": [
        {
          "name": "stdout",
          "output_type": "stream",
          "text": [
            "+-------------+-----+\n",
            "|neighbourhood|count|\n",
            "+-------------+-----+\n",
            "|      Kallang|  405|\n",
            "|      Geylang|  340|\n",
            "|Downtown Core|  317|\n",
            "|       Outram|  309|\n",
            "|       Rochor|  270|\n",
            "+-------------+-----+\n",
            "only showing top 5 rows\n",
            "\n"
          ]
        }
      ],
      "source": [
        "from pyspark.sql import functions\n",
        "from pyspark.sql.functions import col, avg\n",
        "airbnb_schema.groupby(\"neighbourhood\").count().sort(col(\"count\").desc()).show(5)"
      ]
    },
    {
      "cell_type": "markdown",
      "metadata": {
        "colab_type": "text",
        "id": "Up72D5Xi08p4"
      },
      "source": [
        "**21. Analysis of availability of apartments.**"
      ]
    },
    {
      "cell_type": "code",
      "execution_count": 17,
      "metadata": {
        "colab": {
          "base_uri": "https://localhost:8080/",
          "height": 454
        },
        "colab_type": "code",
        "id": "HEQROHhEzIB8",
        "outputId": "53857a24-808e-49c8-b889-7ab7983dd4ad"
      },
      "outputs": [
        {
          "name": "stdout",
          "output_type": "stream",
          "text": [
            "+----------------+-----+\n",
            "|availability_365|count|\n",
            "+----------------+-----+\n",
            "|               0|  605|\n",
            "|               1|    9|\n",
            "|               2|    9|\n",
            "|               3|    3|\n",
            "|               4|    2|\n",
            "|               5|    3|\n",
            "|               6|    1|\n",
            "|               7|    1|\n",
            "|               8|    1|\n",
            "|               9|    1|\n",
            "|              10|    5|\n",
            "|              11|    1|\n",
            "|              12|    1|\n",
            "|              14|    1|\n",
            "|              15|    4|\n",
            "|              16|    2|\n",
            "|              18|    3|\n",
            "|              19|    2|\n",
            "|              20|    2|\n",
            "|              22|    3|\n",
            "+----------------+-----+\n",
            "only showing top 20 rows\n",
            "\n"
          ]
        }
      ],
      "source": [
        "avail_df = airbnb_schema.groupby(\"availability_365\").count().sort(col(\"availability_365\").asc())\n",
        "avail_df.show()"
      ]
    },
    {
      "cell_type": "markdown",
      "metadata": {
        "colab_type": "text",
        "id": "sT3O-VjJrg--"
      },
      "source": [
        "**22. Distinct host id**"
      ]
    },
    {
      "cell_type": "code",
      "execution_count": 18,
      "metadata": {
        "colab": {
          "base_uri": "https://localhost:8080/",
          "height": 34
        },
        "colab_type": "code",
        "id": "4-9odn-I1Eb3",
        "outputId": "23af5b04-87a1-48b9-8535-b7dace534074"
      },
      "outputs": [
        {
          "data": {
            "text/plain": [
              "1044"
            ]
          },
          "execution_count": 18,
          "metadata": {},
          "output_type": "execute_result"
        }
      ],
      "source": [
        "airbnb_schema.select(\"host_id\").distinct().count()"
      ]
    },
    {
      "cell_type": "markdown",
      "metadata": {
        "colab_type": "text",
        "id": "mAMwi0CxsJbA"
      },
      "source": [
        "**23. Number of apartments under different room type**"
      ]
    },
    {
      "cell_type": "code",
      "execution_count": 19,
      "metadata": {
        "colab": {
          "base_uri": "https://localhost:8080/",
          "height": 151
        },
        "colab_type": "code",
        "id": "wiwtvbjB6Z4v",
        "outputId": "e66aca92-9e44-4c76-912a-3c6d71eee146"
      },
      "outputs": [
        {
          "name": "stdout",
          "output_type": "stream",
          "text": [
            "+---------------+-----+\n",
            "|      room_type|count|\n",
            "+---------------+-----+\n",
            "|    Shared room|  147|\n",
            "|   Private room| 1693|\n",
            "|Entire home/apt| 1670|\n",
            "+---------------+-----+\n",
            "\n"
          ]
        }
      ],
      "source": [
        "# Number of apartments under different room type\n",
        "room_type_data = airbnb_schema.where(airbnb_schema.room_type.isin(\"Private room\",\"Entire home/apt\",\"Shared room\")).groupBy(airbnb_schema[\"room_type\"]).count().sort(col(\"room_type\").desc())\n",
        "room_type_data.show()"
      ]
    },
    {
      "cell_type": "markdown",
      "metadata": {
        "colab_type": "text",
        "id": "W-CyYRqWEtUj"
      },
      "source": [
        "**24. Showing a general preference based on the room types. As we can see, most people prefer an Entire home/apt followed by Private Room and very few Shared rooms**"
      ]
    },
    {
      "cell_type": "code",
      "execution_count": 20,
      "metadata": {
        "colab": {
          "base_uri": "https://localhost:8080/",
          "height": 373
        },
        "colab_type": "code",
        "id": "OGM7C7k_XOGx",
        "outputId": "34c212e0-7b4e-4519-86a1-1327f2c36c2d"
      },
      "outputs": [
        {
          "data": {
            "image/png": "[encoded data removed]",
            "text/plain": [
              "<Figure size 1152x432 with 1 Axes>"
            ]
          },
          "metadata": {},
          "output_type": "display_data"
        }
      ],
      "source": [
        "import pandas as pd\n",
        "room_type_data_pd = room_type_data.toPandas()\n",
        "room_type_data_pd.index = room_type_data_pd['room_type']\n",
        "plt = room_type_data_pd.plot.pie(y='count', autopct='%1.1f%%', legend = False, title='Listings by Room types', figsize=(16,6))"
      ]
    },
    {
      "cell_type": "markdown",
      "metadata": {
        "colab_type": "text",
        "id": "DMh5QbhGseKb"
      },
      "source": [
        "**25. Combining room_type with neighbourhoodt**"
      ]
    },
    {
      "cell_type": "code",
      "execution_count": 21,
      "metadata": {
        "colab": {
          "base_uri": "https://localhost:8080/",
          "height": 454
        },
        "colab_type": "code",
        "id": "mD-vE_Ze-MuF",
        "outputId": "e22eb6bc-1a86-46dc-cb4f-75e56528b6e8"
      },
      "outputs": [
        {
          "name": "stdout",
          "output_type": "stream",
          "text": [
            "+-------------+---------------+\n",
            "|neighbourhood|      room_type|\n",
            "+-------------+---------------+\n",
            "|  Bukit Timah|   Private room|\n",
            "|     Tampines|   Private room|\n",
            "|     Tampines|   Private room|\n",
            "|     Tampines|   Private room|\n",
            "|  Bukit Merah|   Private room|\n",
            "|  Bukit Merah|   Private room|\n",
            "|       Newton|   Private room|\n",
            "|  Bukit Merah|   Private room|\n",
            "|  Bukit Merah|   Private room|\n",
            "|  Bukit Merah|   Private room|\n",
            "|     Tampines|   Private room|\n",
            "|      Geylang|   Private room|\n",
            "|       Newton|   Private room|\n",
            "|       Newton|   Private room|\n",
            "| River Valley|   Private room|\n",
            "|     Tampines|   Private room|\n",
            "|  Bukit Timah|Entire home/apt|\n",
            "|     Tampines|   Private room|\n",
            "|       Rochor|   Private room|\n",
            "|  Bukit Timah|   Private room|\n",
            "+-------------+---------------+\n",
            "only showing top 20 rows\n",
            "\n"
          ]
        }
      ],
      "source": [
        "neigh_room_type_schema = airbnb_schema.select(airbnb_schema[\"neighbourhood\"], airbnb_schema[\"room_type\"]).show()"
      ]
    },
    {
      "cell_type": "markdown",
      "metadata": {
        "colab_type": "text",
        "id": "nw0h9eYxsvuI"
      },
      "source": [
        "**26. Below table shows room type by neighbourhood group**"
      ]
    },
    {
      "cell_type": "code",
      "execution_count": 22,
      "metadata": {
        "colab": {
          "base_uri": "https://localhost:8080/",
          "height": 353
        },
        "colab_type": "code",
        "id": "qHoePVu56OoF",
        "outputId": "b0665ae1-2ff0-4546-d8ed-eef6136e4abe"
      },
      "outputs": [
        {
          "name": "stdout",
          "output_type": "stream",
          "text": [
            "+-------------------+---------------+-----+\n",
            "|neighbourhood_group|      room_type|count|\n",
            "+-------------------+---------------+-----+\n",
            "|        West Region|Entire home/apt|  107|\n",
            "|        East Region|     Hotel room|    3|\n",
            "|  North-East Region|Entire home/apt|   33|\n",
            "|     Central Region|    Shared room|  126|\n",
            "|        East Region|Entire home/apt|   51|\n",
            "|       North Region|   Private room|   90|\n",
            "|        West Region|    Shared room|   10|\n",
            "|  North-East Region|   Private room|  104|\n",
            "|        East Region|    Shared room|    6|\n",
            "|       North Region|    Shared room|    2|\n",
            "|  North-East Region|    Shared room|    3|\n",
            "|     Central Region|   Private room| 1158|\n",
            "|        East Region|   Private room|  189|\n",
            "|     Central Region|     Hotel room|  159|\n",
            "|     Central Region|Entire home/apt| 1466|\n",
            "|       North Region|Entire home/apt|   13|\n",
            "|        West Region|   Private room|  152|\n",
            "+-------------------+---------------+-----+\n",
            "\n"
          ]
        }
      ],
      "source": [
        "# room type by neighbourhood group.\n",
        "neighbourhoodgrp_roomtype = airbnb_schema.select(airbnb_schema[\"neighbourhood_group\"], airbnb_schema[\"room_type\"]).groupBy(\"neighbourhood_group\", \"room_type\").count()\n",
        "neighbourhoodgrp_roomtype.show()"
      ]
    },
    {
      "cell_type": "markdown",
      "metadata": {
        "colab_type": "text",
        "id": "APbPFFIgD5iE"
      },
      "source": [
        "**27. Showing the distribution of room types based on the neighbourhood group. From this we can get an idea of what room type are most popular in respective neighbourhood group. This is very important data for someone who would like to setup a new listing or update an existing one.**"
      ]
    },
    {
      "cell_type": "code",
      "execution_count": 23,
      "metadata": {
        "colab": {
          "base_uri": "https://localhost:8080/",
          "height": 407
        },
        "colab_type": "code",
        "id": "dtSzuvpUY99e",
        "outputId": "e300b155-ff19-43de-bb48-a4f2656b1a8c"
      },
      "outputs": [
        {
          "data": {
            "text/plain": [
              "<AxesSubplot:xlabel='neighbourhood_group'>"
            ]
          },
          "execution_count": 23,
          "metadata": {},
          "output_type": "execute_result"
        },
        {
          "data": {
            "image/png": "[encoded data removed]",
            "text/plain": [
              "<Figure size 720x360 with 1 Axes>"
            ]
          },
          "metadata": {
            "needs_background": "light"
          },
          "output_type": "display_data"
        }
      ],
      "source": [
        "import pandas as pd\n",
        "neighbourhoodgrp_roomtype_pd = neighbourhoodgrp_roomtype.toPandas()\n",
        "pd.pivot_table(neighbourhoodgrp_roomtype_pd, index='neighbourhood_group', columns='room_type', values='count').plot.bar(figsize=(10,5))\n"
      ]
    },
    {
      "cell_type": "markdown",
      "metadata": {
        "colab_type": "text",
        "id": "erziFsMItbOZ"
      },
      "source": [
        "**28. Combining neighbourhood with neighbourhood group**"
      ]
    },
    {
      "cell_type": "code",
      "execution_count": 24,
      "metadata": {
        "colab": {
          "base_uri": "https://localhost:8080/",
          "height": 454
        },
        "colab_type": "code",
        "id": "r9anwkqaiSDt",
        "outputId": "1b1420e3-8ffb-4956-bd6e-1802b68a2b06"
      },
      "outputs": [
        {
          "name": "stdout",
          "output_type": "stream",
          "text": [
            "+-------------------+-------------+\n",
            "|neighbourhood_group|neighbourhood|\n",
            "+-------------------+-------------+\n",
            "|        West Region|  Jurong West|\n",
            "|        West Region|  Jurong West|\n",
            "|        West Region|  Jurong West|\n",
            "|        West Region|Choa Chu Kang|\n",
            "|        West Region|  Jurong East|\n",
            "|        West Region|  Jurong East|\n",
            "|        West Region|  Jurong East|\n",
            "|        West Region|     Clementi|\n",
            "|        West Region|  Jurong East|\n",
            "|        West Region|  Bukit Batok|\n",
            "|        West Region|  Bukit Batok|\n",
            "|        West Region|  Bukit Batok|\n",
            "|        West Region|  Bukit Batok|\n",
            "|        West Region|  Jurong West|\n",
            "|        West Region|Choa Chu Kang|\n",
            "|        West Region|  Jurong West|\n",
            "|        West Region|  Jurong West|\n",
            "|        West Region|  Bukit Batok|\n",
            "|        West Region|Bukit Panjang|\n",
            "|        West Region|  Jurong West|\n",
            "+-------------------+-------------+\n",
            "only showing top 20 rows\n",
            "\n"
          ]
        }
      ],
      "source": [
        "nei_group_nei_schema = airbnb_schema.select(airbnb_schema[\"neighbourhood_group\"], airbnb_schema[\"neighbourhood\"])\n",
        "nei_group_nei_schema.sort(col(\"neighbourhood_group\").desc()).show()"
      ]
    },
    {
      "cell_type": "markdown",
      "metadata": {
        "colab_type": "text",
        "id": "dG0ZCViQuM4b"
      },
      "source": [
        "**29. Find the popular neighbourhood groups:**\n",
        "\n",
        "Popular neighbourhood_groups are Central Region, West Region, East Region, North-East Region, North Region"
      ]
    },
    {
      "cell_type": "code",
      "execution_count": 25,
      "metadata": {
        "colab": {
          "base_uri": "https://localhost:8080/",
          "height": 185
        },
        "colab_type": "code",
        "id": "CkDFyQdomyf5",
        "outputId": "86f90cd3-41ab-4f4f-ce96-7d0f1b09c6f9"
      },
      "outputs": [
        {
          "name": "stdout",
          "output_type": "stream",
          "text": [
            "+-------------------+-----+\n",
            "|neighbourhood_group|count|\n",
            "+-------------------+-----+\n",
            "|     Central Region| 2909|\n",
            "|        West Region|  269|\n",
            "|        East Region|  249|\n",
            "|  North-East Region|  140|\n",
            "|       North Region|  105|\n",
            "+-------------------+-----+\n",
            "\n"
          ]
        }
      ],
      "source": [
        "\n",
        "nei_group_nei_schema.groupBy(\"neighbourhood_group\").count().sort(col(\"count\").desc()).show()\n"
      ]
    },
    {
      "cell_type": "markdown",
      "metadata": {
        "colab_type": "text",
        "id": "JL8-DbJXXkou"
      },
      "source": [
        "Above we check which neighbourhood group is the most popular based on the number of listings in that group. Also, how the count varies for other neighbourhood groups. **The result shows that Central Region is the most popular neighbourhood group for people**."
      ]
    },
    {
      "cell_type": "markdown",
      "metadata": {
        "colab_type": "text",
        "id": "8cALlQwYwqSc"
      },
      "source": [
        "**30. Number of neighbourhood in popular neighbourhood_groups**\n"
      ]
    },
    {
      "cell_type": "code",
      "execution_count": 26,
      "metadata": {
        "colab": {},
        "colab_type": "code",
        "id": "UckTbBs6nXlc"
      },
      "outputs": [],
      "source": [
        "manhattan_nei = nei_group_nei_schema.where(nei_group_nei_schema.neighbourhood_group.like(\"Central Region\")).groupBy(\"neighbourhood\").count().sort(col(\"count\").desc())\n",
        "brooklyn_nei =  nei_group_nei_schema.where(nei_group_nei_schema.neighbourhood_group.like(\"West Region\")).groupBy(\"neighbourhood\").count().sort(col(\"count\").desc())\n",
        "queens_nei =  nei_group_nei_schema.where(nei_group_nei_schema.neighbourhood_group.like(\"East Region\")).groupBy(\"neighbourhood\").count().sort(col(\"count\").desc())\n",
        "bronx_nei =  nei_group_nei_schema.where(nei_group_nei_schema.neighbourhood_group.like(\"North-East Region\")).groupBy(\"neighbourhood\").count().sort(col(\"count\").desc())\n",
        "north_nei =  nei_group_nei_schema.where(nei_group_nei_schema.neighbourhood_group.like(\"North Region\")).groupBy(\"neighbourhood\").count().sort(col(\"count\").desc())\n"
      ]
    },
    {
      "cell_type": "markdown",
      "metadata": {
        "colab_type": "text",
        "id": "vcFvnof5wzeU"
      },
      "source": [
        "**31. Combining neighbourhood_group, neighbourhood and room_type**"
      ]
    },
    {
      "cell_type": "code",
      "execution_count": 27,
      "metadata": {
        "colab": {},
        "colab_type": "code",
        "id": "fHGyTVVbtq2t"
      },
      "outputs": [],
      "source": [
        "neigh_group_neigh_room_type_schema = airbnb_schema.select(\"neighbourhood_group\", \"neighbourhood\", \"room_type\")"
      ]
    },
    {
      "cell_type": "markdown",
      "metadata": {
        "colab_type": "text",
        "id": "z2-5jAzKw7uj"
      },
      "source": [
        "**32. Distribution of rooms in various neighbourhood in Central Region.**"
      ]
    },
    {
      "cell_type": "code",
      "execution_count": 28,
      "metadata": {
        "colab": {
          "base_uri": "https://localhost:8080/",
          "height": 1000
        },
        "colab_type": "code",
        "id": "QFqCNh1Kxrl1",
        "outputId": "8ed8bf1b-0d50-4ce1-e2a1-06664316cbc7"
      },
      "outputs": [
        {
          "name": "stdout",
          "output_type": "stream",
          "text": [
            "Showing distribution for room_type = 'Private room' in Central Region\n",
            "+----------------+-----+\n",
            "|   neighbourhood|count|\n",
            "+----------------+-----+\n",
            "|         Kallang|  213|\n",
            "|         Geylang|  158|\n",
            "|          Outram|  127|\n",
            "|   Downtown Core|  123|\n",
            "|          Rochor|  119|\n",
            "|     Bukit Merah|   68|\n",
            "|          Novena|   57|\n",
            "|      Queenstown|   46|\n",
            "|     Bukit Timah|   37|\n",
            "|    River Valley|   34|\n",
            "|          Newton|   31|\n",
            "| Singapore River|   27|\n",
            "|   Marine Parade|   23|\n",
            "|          Bishan|   23|\n",
            "|         Tanglin|   20|\n",
            "|       Toa Payoh|   17|\n",
            "|         Orchard|   16|\n",
            "|          Museum|   10|\n",
            "|Southern Islands|    6|\n",
            "|    Marina South|    3|\n",
            "+----------------+-----+\n",
            "\n",
            "Showing distribution for room_type = 'Shared room' in Central Region\n",
            "+---------------+-----+\n",
            "|  neighbourhood|count|\n",
            "+---------------+-----+\n",
            "|         Rochor|   44|\n",
            "|        Kallang|   37|\n",
            "|     Queenstown|    8|\n",
            "|         Outram|    8|\n",
            "|Singapore River|    8|\n",
            "|        Geylang|    6|\n",
            "|  Downtown Core|    5|\n",
            "|      Toa Payoh|    4|\n",
            "|    Bukit Merah|    3|\n",
            "|   River Valley|    2|\n",
            "|    Bukit Timah|    1|\n",
            "+---------------+-----+\n",
            "\n",
            "Showing distribution for room_type = 'Entire home/apt' in Central Region\n",
            "+----------------+-----+\n",
            "|   neighbourhood|count|\n",
            "+----------------+-----+\n",
            "|          Novena|  178|\n",
            "|         Geylang|  176|\n",
            "|   Downtown Core|  170|\n",
            "|         Kallang|  130|\n",
            "|          Outram|  114|\n",
            "|    River Valley|  102|\n",
            "|     Bukit Merah|  100|\n",
            "|          Rochor|   91|\n",
            "|      Queenstown|   87|\n",
            "|         Tanglin|   67|\n",
            "| Singapore River|   62|\n",
            "|         Orchard|   60|\n",
            "|   Marine Parade|   34|\n",
            "|          Newton|   26|\n",
            "|       Toa Payoh|   19|\n",
            "|     Bukit Timah|   18|\n",
            "|          Bishan|   16|\n",
            "|Southern Islands|   12|\n",
            "|          Museum|    4|\n",
            "+----------------+-----+\n",
            "\n"
          ]
        }
      ],
      "source": [
        "print(\"Showing distribution for room_type = 'Private room' in Central Region\")\n",
        "manhattan_nei_private = neigh_group_neigh_room_type_schema.where((col(\"neighbourhood_group\")==\"Central Region\") & (col(\"room_type\")==\"Private room\")).groupBy(\"neighbourhood\").count().sort(col(\"count\").desc()).show()\n",
        "print(\"Showing distribution for room_type = 'Shared room' in Central Region\")\n",
        "manhattan_nei_shared = neigh_group_neigh_room_type_schema.where((col(\"neighbourhood_group\").like(\"Central Region%\")) & (col(\"room_type\")==\"Shared room\")).groupBy(\"neighbourhood\").count().sort(col(\"count\").desc()).show()\n",
        "print(\"Showing distribution for room_type = 'Entire home/apt' in Central Region\")\n",
        "manhattan_nei_entire_home = neigh_group_neigh_room_type_schema.where((col(\"neighbourhood_group\")==\"Central Region\") & (col(\"room_type\")==\"Entire home/apt\")).groupBy(\"neighbourhood\").count().sort(col(\"count\").desc()).show()\n"
      ]
    },
    {
      "cell_type": "markdown",
      "metadata": {
        "colab_type": "text",
        "id": "pDqdqONQxMD9"
      },
      "source": [
        "**33. Distribution of rooms in various neighbourhood in West Region.**"
      ]
    },
    {
      "cell_type": "code",
      "execution_count": 29,
      "metadata": {
        "colab": {
          "base_uri": "https://localhost:8080/",
          "height": 1000
        },
        "colab_type": "code",
        "id": "QrIk776LyRHb",
        "outputId": "6943997f-1c6c-4d2a-f715-da901a4ac4d4"
      },
      "outputs": [
        {
          "name": "stdout",
          "output_type": "stream",
          "text": [
            "Showing distribution for room_type = 'Private room' in West Region\n",
            "+--------------------+-----+\n",
            "|       neighbourhood|count|\n",
            "+--------------------+-----+\n",
            "|         Jurong West|   52|\n",
            "|         Bukit Batok|   26|\n",
            "|            Clementi|   22|\n",
            "|         Jurong East|   21|\n",
            "|       Choa Chu Kang|   14|\n",
            "|       Bukit Panjang|   14|\n",
            "|Western Water Cat...|    2|\n",
            "|             Pioneer|    1|\n",
            "+--------------------+-----+\n",
            "\n",
            "Showing distribution for room_type = 'Shared room' in West Region\n",
            "+-------------+-----+\n",
            "|neighbourhood|count|\n",
            "+-------------+-----+\n",
            "|  Jurong East|    4|\n",
            "|     Clementi|    3|\n",
            "|  Jurong West|    1|\n",
            "|  Bukit Batok|    1|\n",
            "|Choa Chu Kang|    1|\n",
            "+-------------+-----+\n",
            "\n",
            "Showing distribution for room_type = 'Entire home/apt' in West Region\n",
            "+--------------------+-----+\n",
            "|       neighbourhood|count|\n",
            "+--------------------+-----+\n",
            "|            Clementi|   47|\n",
            "|         Jurong East|   46|\n",
            "|         Jurong West|    6|\n",
            "|         Bukit Batok|    4|\n",
            "|       Choa Chu Kang|    2|\n",
            "|                Tuas|    1|\n",
            "|Western Water Cat...|    1|\n",
            "+--------------------+-----+\n",
            "\n"
          ]
        }
      ],
      "source": [
        "\n",
        "print(\"Showing distribution for room_type = 'Private room' in West Region\")\n",
        "brooklyn_nei_private = neigh_group_neigh_room_type_schema.where((col(\"neighbourhood_group\")==\"West Region\") & (col(\"room_type\")==\"Private room\")).groupBy(\"neighbourhood\").count().sort(col(\"count\").desc()).show()\n",
        "print(\"Showing distribution for room_type = 'Shared room' in West Region\")\n",
        "brooklyn_nei_shared = neigh_group_neigh_room_type_schema.where((col(\"neighbourhood_group\").like(\"West Region\")) & (col(\"room_type\")==\"Shared room\")).groupBy(\"neighbourhood\").count().sort(col(\"count\").desc()).show()\n",
        "print(\"Showing distribution for room_type = 'Entire home/apt' in West Region\")\n",
        "brooklyn_nei_entire_home = neigh_group_neigh_room_type_schema.where((col(\"neighbourhood_group\")==\"West Region\") & (col(\"room_type\")==\"Entire home/apt\")).groupBy(\"neighbourhood\").count().sort(col(\"count\").desc()).show()\n"
      ]
    },
    {
      "cell_type": "markdown",
      "metadata": {
        "colab_type": "text",
        "id": "IRtZopzOxWV_"
      },
      "source": [
        "**34. Distribution of rooms in various neighbourhood in East Region.**"
      ]
    },
    {
      "cell_type": "code",
      "execution_count": 30,
      "metadata": {
        "colab": {
          "base_uri": "https://localhost:8080/",
          "height": 1000
        },
        "colab_type": "code",
        "id": "c-loIl4H14qb",
        "outputId": "cf3ab780-931b-4681-cbd0-504827be47a0"
      },
      "outputs": [
        {
          "name": "stdout",
          "output_type": "stream",
          "text": [
            "Showing distribution for room_type = 'Private room' in East Region\n",
            "+-------------+-----+\n",
            "|neighbourhood|count|\n",
            "+-------------+-----+\n",
            "|        Bedok|  144|\n",
            "|     Tampines|   26|\n",
            "|    Pasir Ris|   19|\n",
            "+-------------+-----+\n",
            "\n",
            "Showing distribution for room_type = 'Shared room' in East Region\n",
            "+-------------+-----+\n",
            "|neighbourhood|count|\n",
            "+-------------+-----+\n",
            "|        Bedok|    3|\n",
            "|    Pasir Ris|    2|\n",
            "|     Tampines|    1|\n",
            "+-------------+-----+\n",
            "\n",
            "Showing distribution for room_type = 'Entire home/apt' in East Region\n",
            "+-------------+-----+\n",
            "|neighbourhood|count|\n",
            "+-------------+-----+\n",
            "|        Bedok|   36|\n",
            "|    Pasir Ris|   12|\n",
            "|     Tampines|    3|\n",
            "+-------------+-----+\n",
            "\n"
          ]
        }
      ],
      "source": [
        "# \n",
        "print(\"Showing distribution for room_type = 'Private room' in East Region\")\n",
        "queens_nei_private = neigh_group_neigh_room_type_schema.where((col(\"neighbourhood_group\")==\"East Region\") & (col(\"room_type\")==\"Private room\")).groupBy(\"neighbourhood\").count().sort(col(\"count\").desc()).show()\n",
        "print(\"Showing distribution for room_type = 'Shared room' in East Region\")\n",
        "queens_nei_shared = neigh_group_neigh_room_type_schema.where((col(\"neighbourhood_group\")==\"East Region\") & (col(\"room_type\")==\"Shared room\")).groupBy(\"neighbourhood\").count().sort(col(\"count\").desc()).show()\n",
        "print(\"Showing distribution for room_type = 'Entire home/apt' in East Region\")\n",
        "queens_nei_entire_home = neigh_group_neigh_room_type_schema.where((col(\"neighbourhood_group\")==\"East Region\") & (col(\"room_type\")==\"Entire home/apt\")).groupBy(\"neighbourhood\").count().sort(col(\"count\").desc()).show()\n"
      ]
    },
    {
      "cell_type": "markdown",
      "metadata": {
        "colab_type": "text",
        "id": "sYX21FePxfnp"
      },
      "source": [
        "**35. Distribution of rooms in various neighbourhood in North-East Region.**"
      ]
    },
    {
      "cell_type": "code",
      "execution_count": 31,
      "metadata": {
        "colab": {
          "base_uri": "https://localhost:8080/",
          "height": 1000
        },
        "colab_type": "code",
        "id": "CRmk_6WI2zo_",
        "outputId": "71c8033a-00a5-4c8e-c93c-ada6e6194fae"
      },
      "outputs": [
        {
          "name": "stdout",
          "output_type": "stream",
          "text": [
            "Showing distribution for room_type = 'Private room' in North-East Region\n",
            "+-------------+-----+\n",
            "|neighbourhood|count|\n",
            "+-------------+-----+\n",
            "|    Serangoon|   28|\n",
            "|      Hougang|   24|\n",
            "|   Ang Mo Kio|   24|\n",
            "|     Sengkang|   16|\n",
            "|      Punggol|   12|\n",
            "+-------------+-----+\n",
            "\n",
            "Showing distribution for room_type = 'Shared room' in North-East Region\n",
            "+-------------+-----+\n",
            "|neighbourhood|count|\n",
            "+-------------+-----+\n",
            "|      Punggol|    1|\n",
            "|     Sengkang|    1|\n",
            "|   Ang Mo Kio|    1|\n",
            "+-------------+-----+\n",
            "\n",
            "Showing distribution for room_type = 'Entire home/apt' in North-East Region\n",
            "+-------------+-----+\n",
            "|neighbourhood|count|\n",
            "+-------------+-----+\n",
            "|      Hougang|   19|\n",
            "|    Serangoon|    7|\n",
            "|      Punggol|    4|\n",
            "|     Sengkang|    2|\n",
            "|   Ang Mo Kio|    1|\n",
            "+-------------+-----+\n",
            "\n"
          ]
        }
      ],
      "source": [
        "print(\"Showing distribution for room_type = 'Private room' in North-East Region\")\n",
        "bronx_nei_private = neigh_group_neigh_room_type_schema.where((col(\"neighbourhood_group\")==\"North-East Region\") & (col(\"room_type\")==\"Private room\")).groupBy(\"neighbourhood\").count().sort(col(\"count\").desc()).show()\n",
        "print(\"Showing distribution for room_type = 'Shared room' in North-East Region\")\n",
        "bronx_nei_shared = neigh_group_neigh_room_type_schema.where((col(\"neighbourhood_group\")==\"North-East Region\") & (col(\"room_type\")==\"Shared room\")).groupBy(\"neighbourhood\").count().sort(col(\"count\").desc()).show()\n",
        "print(\"Showing distribution for room_type = 'Entire home/apt' in North-East Region\")\n",
        "bronx_nei_entire_home = neigh_group_neigh_room_type_schema.where((col(\"neighbourhood_group\")==\"North-East Region\") & (col(\"room_type\")==\"Entire home/apt\")).groupBy(\"neighbourhood\").count().sort(col(\"count\").desc()).show()\n"
      ]
    },
    {
      "cell_type": "markdown",
      "metadata": {},
      "source": [
        "**36. Distribution of rooms in various neighbourhood in North Region.**"
      ]
    },
    {
      "cell_type": "code",
      "execution_count": 32,
      "metadata": {},
      "outputs": [
        {
          "name": "stdout",
          "output_type": "stream",
          "text": [
            "Showing distribution for room_type = 'Private room' in North Region\n",
            "+--------------------+-----+\n",
            "|       neighbourhood|count|\n",
            "+--------------------+-----+\n",
            "|           Woodlands|   40|\n",
            "|           Sembawang|   25|\n",
            "|              Yishun|   18|\n",
            "|Central Water Cat...|    5|\n",
            "|              Mandai|    2|\n",
            "+--------------------+-----+\n",
            "\n",
            "Showing distribution for room_type = 'Shared room' in North Region\n",
            "+-------------+-----+\n",
            "|neighbourhood|count|\n",
            "+-------------+-----+\n",
            "| Sungei Kadut|    1|\n",
            "|       Yishun|    1|\n",
            "+-------------+-----+\n",
            "\n",
            "Showing distribution for room_type = 'Entire home/apt' in North Region\n",
            "+--------------------+-----+\n",
            "|       neighbourhood|count|\n",
            "+--------------------+-----+\n",
            "|Central Water Cat...|    7|\n",
            "|           Woodlands|    4|\n",
            "|        Lim Chu Kang|    1|\n",
            "|           Sembawang|    1|\n",
            "+--------------------+-----+\n",
            "\n"
          ]
        }
      ],
      "source": [
        "print(\"Showing distribution for room_type = 'Private room' in North Region\")\n",
        "bronx_nei_private = neigh_group_neigh_room_type_schema.where((col(\"neighbourhood_group\")==\"North Region\") & (col(\"room_type\")==\"Private room\")).groupBy(\"neighbourhood\").count().sort(col(\"count\").desc()).show()\n",
        "print(\"Showing distribution for room_type = 'Shared room' in North Region\")\n",
        "bronx_nei_shared = neigh_group_neigh_room_type_schema.where((col(\"neighbourhood_group\")==\"North Region\") & (col(\"room_type\")==\"Shared room\")).groupBy(\"neighbourhood\").count().sort(col(\"count\").desc()).show()\n",
        "print(\"Showing distribution for room_type = 'Entire home/apt' in North Region\")\n",
        "bronx_nei_entire_home = neigh_group_neigh_room_type_schema.where((col(\"neighbourhood_group\")==\"North Region\") & (col(\"room_type\")==\"Entire home/apt\")).groupBy(\"neighbourhood\").count().sort(col(\"count\").desc()).show()\n"
      ]
    },
    {
      "cell_type": "markdown",
      "metadata": {
        "colab_type": "text",
        "id": "BAn0IKt3xm21"
      },
      "source": [
        "**37. Total average price of various room types**"
      ]
    },
    {
      "cell_type": "code",
      "execution_count": 33,
      "metadata": {
        "colab": {
          "base_uri": "https://localhost:8080/",
          "height": 420
        },
        "colab_type": "code",
        "id": "atq8i8y63B53",
        "outputId": "e52517c1-4f87-4f5e-8615-82b90f3f6ec3"
      },
      "outputs": [
        {
          "name": "stdout",
          "output_type": "stream",
          "text": [
            "+-------------------+\n",
            "|Total average price|\n",
            "+-------------------+\n",
            "| 209.50054466230938|\n",
            "+-------------------+\n",
            "\n",
            "+-----------------------------------+\n",
            "|Total average price of private room|\n",
            "+-----------------------------------+\n",
            "|                 139.57944477259304|\n",
            "+-----------------------------------+\n",
            "\n",
            "+----------------------------------+\n",
            "|Total average price of shared room|\n",
            "+----------------------------------+\n",
            "|                108.99319727891157|\n",
            "+----------------------------------+\n",
            "\n",
            "+---------------------------------------+\n",
            "|Total average price of entire home room|\n",
            "+---------------------------------------+\n",
            "|                     291.75748502994014|\n",
            "+---------------------------------------+\n",
            "\n"
          ]
        }
      ],
      "source": [
        "nei_group_nei_room_price_schema = airbnb_schema.select(\"neighbourhood_group\", \"neighbourhood\", \"room_type\", \"price\")\n",
        "nei_group_nei_room_price_schema.agg(avg(col(\"price\")).alias(\"Total average price\")).show()\n",
        "# Total average price of private room.\n",
        "nei_group_nei_room_price_schema.where(col(\"room_type\")==\"Private room\").agg(avg(col(\"price\")).alias(\"Total average price of private room\")).show()\n",
        "# Total average price of shared room.\n",
        "nei_group_nei_room_price_schema.where(col(\"room_type\")==\"Shared room\").agg(avg(col(\"price\")).alias(\"Total average price of shared room\")).show()\n",
        "# Total average price of entire home/apt.\n",
        "nei_group_nei_room_price_schema.where(col(\"room_type\")==\"Entire home/apt\").agg(avg(col(\"price\")).alias(\"Total average price of entire home room\")).show()"
      ]
    },
    {
      "cell_type": "markdown",
      "metadata": {
        "colab_type": "text",
        "id": "ZWf-x2v3xwtD"
      },
      "source": [
        "**37. Average price of various room types in Central Region**"
      ]
    },
    {
      "cell_type": "code",
      "execution_count": 34,
      "metadata": {
        "colab": {
          "base_uri": "https://localhost:8080/",
          "height": 319
        },
        "colab_type": "code",
        "id": "wBmuTG3UktqA",
        "outputId": "8cc6600c-acb5-498c-c742-8fd991866d09"
      },
      "outputs": [
        {
          "name": "stdout",
          "output_type": "stream",
          "text": [
            "+-----------------------------------------------+\n",
            "|Average price of private room in Central Region|\n",
            "+-----------------------------------------------+\n",
            "|                             154.34455958549222|\n",
            "+-----------------------------------------------+\n",
            "\n",
            "+----------------------------------------------+\n",
            "|Average price of shared room in Central Region|\n",
            "+----------------------------------------------+\n",
            "|                             104.4920634920635|\n",
            "+----------------------------------------------+\n",
            "\n",
            "+--------------------------------------------------+\n",
            "|Average price of entire home/apt in Central Region|\n",
            "+--------------------------------------------------+\n",
            "|                                 284.2230559345157|\n",
            "+--------------------------------------------------+\n",
            "\n"
          ]
        }
      ],
      "source": [
        "manhattan_nei_private = nei_group_nei_room_price_schema.where((col(\"neighbourhood_group\")==\"Central Region\") & (col(\"room_type\")==\"Private room\")).agg(avg(col(\"price\")).alias(\"Average price of private room in Central Region\")).show()\n",
        "manhattan_nei_shared = nei_group_nei_room_price_schema.where((col(\"neighbourhood_group\")==\"Central Region\") & (col(\"room_type\")==\"Shared room\")).agg(avg(col(\"price\")).alias(\"Average price of shared room in Central Region\")).show()\n",
        "manhattan_nei_entire_home = nei_group_nei_room_price_schema.where((col(\"neighbourhood_group\")==\"Central Region\") & (col(\"room_type\")==\"Entire home/apt\")).agg(avg(col(\"price\")).alias(\"Average price of entire home/apt in Central Region\")).show()\n"
      ]
    },
    {
      "cell_type": "markdown",
      "metadata": {
        "colab_type": "text",
        "id": "3UpDlJBnx_yD"
      },
      "source": [
        "**38. Average price of various room types in West**"
      ]
    },
    {
      "cell_type": "code",
      "execution_count": 35,
      "metadata": {
        "colab": {
          "base_uri": "https://localhost:8080/",
          "height": 319
        },
        "colab_type": "code",
        "id": "iukt5ZJtk8pF",
        "outputId": "f8842489-b920-4d89-dd54-6beda7bd8ac2"
      },
      "outputs": [
        {
          "name": "stdout",
          "output_type": "stream",
          "text": [
            "+--------------------------------------------+\n",
            "|Average price of private room in West Region|\n",
            "+--------------------------------------------+\n",
            "|                           98.53947368421052|\n",
            "+--------------------------------------------+\n",
            "\n",
            "+-------------------------------------------+\n",
            "|Average price of shared room in West Region|\n",
            "+-------------------------------------------+\n",
            "|                                       48.3|\n",
            "+-------------------------------------------+\n",
            "\n",
            "+-----------------------------------------------+\n",
            "|Average price of entire home/apt in West Region|\n",
            "+-----------------------------------------------+\n",
            "|                             333.21495327102804|\n",
            "+-----------------------------------------------+\n",
            "\n"
          ]
        }
      ],
      "source": [
        "brooklyn_nei_private = nei_group_nei_room_price_schema.where((col(\"neighbourhood_group\")==\"West Region\") & (col(\"room_type\")==\"Private room\")).agg(avg(col(\"price\")).alias(\"Average price of private room in West Region\")).show()\n",
        "brooklyn_nei_shared = nei_group_nei_room_price_schema.where((col(\"neighbourhood_group\")==\"West Region\") & (col(\"room_type\")==\"Shared room\")).agg(avg(col(\"price\")).alias(\"Average price of shared room in West Region\")).show()\n",
        "brooklyn_nei_entire_home = nei_group_nei_room_price_schema.where((col(\"neighbourhood_group\")==\"West Region\") & (col(\"room_type\")==\"Entire home/apt\")).agg(avg(col(\"price\")).alias(\"Average price of entire home/apt in West Region\")).show()\n"
      ]
    },
    {
      "cell_type": "markdown",
      "metadata": {
        "colab_type": "text",
        "id": "0I793p49yHeI"
      },
      "source": [
        "**39. Average price of various room types in East Region**"
      ]
    },
    {
      "cell_type": "code",
      "execution_count": 36,
      "metadata": {
        "colab": {
          "base_uri": "https://localhost:8080/",
          "height": 319
        },
        "colab_type": "code",
        "id": "IkYRxYZtlPg_",
        "outputId": "7cc7a5ef-50af-4881-ec2f-a9ae2ca574a9"
      },
      "outputs": [
        {
          "name": "stdout",
          "output_type": "stream",
          "text": [
            "+--------------------------------------------+\n",
            "|Average price of private room in East Region|\n",
            "+--------------------------------------------+\n",
            "|                          125.75132275132275|\n",
            "+--------------------------------------------+\n",
            "\n",
            "+-------------------------------------------+\n",
            "|Average price of shared room in East Region|\n",
            "+-------------------------------------------+\n",
            "|                          284.8333333333333|\n",
            "+-------------------------------------------+\n",
            "\n",
            "+-----------------------------------------------+\n",
            "|Average price of entire home/apt in East Region|\n",
            "+-----------------------------------------------+\n",
            "|                             391.03921568627453|\n",
            "+-----------------------------------------------+\n",
            "\n"
          ]
        }
      ],
      "source": [
        "# Average price of various room types in various (popular) neighbourhood groups\n",
        "# In Queens.\n",
        "queens_nei_private = nei_group_nei_room_price_schema.where((col(\"neighbourhood_group\")==\"East Region\") & (col(\"room_type\")==\"Private room\")).agg(avg(col(\"price\")).alias(\"Average price of private room in East Region\")).show()\n",
        "queens_nei_shared = nei_group_nei_room_price_schema.where((col(\"neighbourhood_group\")==\"East Region\") & (col(\"room_type\")==\"Shared room\")).agg(avg(col(\"price\")).alias(\"Average price of shared room in East Region\")).show()\n",
        "queens_nei_entire_home = nei_group_nei_room_price_schema.where((col(\"neighbourhood_group\")==\"East Region\") & (col(\"room_type\")==\"Entire home/apt\")).agg(avg(col(\"price\")).alias(\"Average price of entire home/apt in East Region\")).show()\n"
      ]
    },
    {
      "cell_type": "markdown",
      "metadata": {
        "colab_type": "text",
        "id": "hh4yKUovyPb1"
      },
      "source": [
        "**40. Average price of various room types in North-East Region**"
      ]
    },
    {
      "cell_type": "code",
      "execution_count": 37,
      "metadata": {
        "colab": {
          "base_uri": "https://localhost:8080/",
          "height": 319
        },
        "colab_type": "code",
        "id": "fX_wkWLsbgm0",
        "outputId": "ca88d0a4-d3fe-4fd4-9da4-d54c90bb3ac7"
      },
      "outputs": [
        {
          "name": "stdout",
          "output_type": "stream",
          "text": [
            "+--------------------------------------------------+\n",
            "|Average price of private room in North-East Region|\n",
            "+--------------------------------------------------+\n",
            "|                                100.01923076923077|\n",
            "+--------------------------------------------------+\n",
            "\n",
            "+-------------------------------------------------+\n",
            "|Average price of shared room in North-East Region|\n",
            "+-------------------------------------------------+\n",
            "|                               108.66666666666667|\n",
            "+-------------------------------------------------+\n",
            "\n",
            "+-----------------------------------------------------+\n",
            "|Average price of entire home/apt in North-East Region|\n",
            "+-----------------------------------------------------+\n",
            "|                                    340.3636363636364|\n",
            "+-----------------------------------------------------+\n",
            "\n"
          ]
        }
      ],
      "source": [
        " # Average price of various room types in various (popular) neighbourhood groups\n",
        "# In Bronx.\n",
        "bronx_nei_private = nei_group_nei_room_price_schema.where((col(\"neighbourhood_group\")==\"North-East Region\") & (col(\"room_type\")==\"Private room\")).agg(avg(col(\"price\")).alias(\"Average price of private room in North-East Region\")).show()\n",
        "bronx_nei_shared = nei_group_nei_room_price_schema.where((col(\"neighbourhood_group\")==\"North-East Region\") & (col(\"room_type\")==\"Shared room\")).agg(avg(col(\"price\")).alias(\"Average price of shared room in North-East Region\")).show()\n",
        "bronx_nei_entire_home = nei_group_nei_room_price_schema.where((col(\"neighbourhood_group\")==\"North-East Region\") & (col(\"room_type\")==\"Entire home/apt\")).agg(avg(col(\"price\")).alias(\"Average price of entire home/apt in North-East Region\")).show()\n"
      ]
    },
    {
      "cell_type": "markdown",
      "metadata": {},
      "source": [
        "**40. Average price of various room types in North Region**"
      ]
    },
    {
      "cell_type": "code",
      "execution_count": 38,
      "metadata": {},
      "outputs": [
        {
          "name": "stdout",
          "output_type": "stream",
          "text": [
            "+---------------------------------------------+\n",
            "|Average price of private room in North Region|\n",
            "+---------------------------------------------+\n",
            "|                            93.66666666666667|\n",
            "+---------------------------------------------+\n",
            "\n",
            "+--------------------------------------------+\n",
            "|Average price of shared room in North Region|\n",
            "+--------------------------------------------+\n",
            "|                                       169.0|\n",
            "+--------------------------------------------+\n",
            "\n",
            "+------------------------------------------------+\n",
            "|Average price of entire home/apt in North Region|\n",
            "+------------------------------------------------+\n",
            "|                               287.3076923076923|\n",
            "+------------------------------------------------+\n",
            "\n"
          ]
        }
      ],
      "source": [
        " # Average price of various room types in various (popular) neighbourhood groups\n",
        "# In Bronx.\n",
        "bronx_nei_private = nei_group_nei_room_price_schema.where((col(\"neighbourhood_group\")==\"North Region\") & (col(\"room_type\")==\"Private room\")).agg(avg(col(\"price\")).alias(\"Average price of private room in North Region\")).show()\n",
        "bronx_nei_shared = nei_group_nei_room_price_schema.where((col(\"neighbourhood_group\")==\"North Region\") & (col(\"room_type\")==\"Shared room\")).agg(avg(col(\"price\")).alias(\"Average price of shared room in North Region\")).show()\n",
        "bronx_nei_entire_home = nei_group_nei_room_price_schema.where((col(\"neighbourhood_group\")==\"North Region\") & (col(\"room_type\")==\"Entire home/apt\")).agg(avg(col(\"price\")).alias(\"Average price of entire home/apt in North Region\")).show()\n"
      ]
    },
    {
      "cell_type": "markdown",
      "metadata": {
        "colab_type": "text",
        "id": "TH5pGzn0yV85"
      },
      "source": [
        "**41. Total frequency of nights people stay in all the neighbourhood groups**"
      ]
    },
    {
      "cell_type": "code",
      "execution_count": 39,
      "metadata": {
        "colab": {
          "base_uri": "https://localhost:8080/",
          "height": 454
        },
        "colab_type": "code",
        "id": "KgbrelGifujs",
        "outputId": "c64e81e5-494e-415e-8278-fbdc491aa98d"
      },
      "outputs": [
        {
          "name": "stdout",
          "output_type": "stream",
          "text": [
            "+--------------+-----+\n",
            "|minimum_nights|count|\n",
            "+--------------+-----+\n",
            "|             1|  806|\n",
            "|             2|  196|\n",
            "|             3|  157|\n",
            "|             4|   62|\n",
            "|             5|   84|\n",
            "|             6|  452|\n",
            "|             7|  234|\n",
            "|             9|    4|\n",
            "|            10|   36|\n",
            "|            12|    2|\n",
            "|            13|    3|\n",
            "|            14|   50|\n",
            "|            15|   19|\n",
            "|            17|    1|\n",
            "|            18|  156|\n",
            "|            20|    6|\n",
            "|            21|   19|\n",
            "|            22|    1|\n",
            "|            23|    1|\n",
            "|            25|    4|\n",
            "+--------------+-----+\n",
            "only showing top 20 rows\n",
            "\n"
          ]
        }
      ],
      "source": [
        "\n",
        "nei_group_nei_min_nights_schema = airbnb_schema.select(\"neighbourhood_group\", \"neighbourhood\", \"minimum_nights\")\n",
        "nei_group_nei_min_nights_schema.na.drop(subset=[\"minimum_nights\"]).groupBy(\"minimum_nights\").count().sort(col(\"minimum_nights\").asc()).show()"
      ]
    },
    {
      "cell_type": "markdown",
      "metadata": {
        "colab_type": "text",
        "id": "Cs64xQtBy6uk"
      },
      "source": [
        "**42. Total frequency of nights people stay in various (popular) neighbourhood groups**"
      ]
    },
    {
      "cell_type": "code",
      "execution_count": 40,
      "metadata": {
        "colab": {
          "base_uri": "https://localhost:8080/",
          "height": 1781
        },
        "colab_type": "code",
        "id": "qTjDEfONuG4j",
        "outputId": "f96e14e8-afb0-49ea-a434-44e93880cb10"
      },
      "outputs": [
        {
          "name": "stdout",
          "output_type": "stream",
          "text": [
            "2909\n",
            "+--------------+-----+\n",
            "|minimum_nights|count|\n",
            "+--------------+-----+\n",
            "|             1|  646|\n",
            "|             2|  146|\n",
            "|             3|  127|\n",
            "|             4|   52|\n",
            "|             5|   61|\n",
            "|             6|  421|\n",
            "|             7|  185|\n",
            "|             9|    3|\n",
            "|            10|   30|\n",
            "|            12|    1|\n",
            "|            13|    3|\n",
            "|            14|   44|\n",
            "|            15|   10|\n",
            "|            18|  155|\n",
            "|            20|    6|\n",
            "|            21|   18|\n",
            "|            25|    3|\n",
            "|            26|    4|\n",
            "|            27|    2|\n",
            "|            28|   29|\n",
            "+--------------+-----+\n",
            "only showing top 20 rows\n",
            "\n",
            "+--------------+-----+\n",
            "|minimum_nights|count|\n",
            "+--------------+-----+\n",
            "|             1|   37|\n",
            "|             2|   18|\n",
            "|             3|   10|\n",
            "|             4|    1|\n",
            "|             5|   12|\n",
            "|             6|   16|\n",
            "|             7|    9|\n",
            "|            10|    5|\n",
            "|            12|    1|\n",
            "|            14|    4|\n",
            "|            15|    3|\n",
            "|            18|    1|\n",
            "|            25|    1|\n",
            "|            26|    3|\n",
            "|            28|    1|\n",
            "|            30|   19|\n",
            "|            31|    2|\n",
            "|            60|    2|\n",
            "|            80|    3|\n",
            "|            88|    2|\n",
            "+--------------+-----+\n",
            "only showing top 20 rows\n",
            "\n",
            "+--------------+-----+\n",
            "|minimum_nights|count|\n",
            "+--------------+-----+\n",
            "|             1|   64|\n",
            "|             2|   21|\n",
            "|             3|    6|\n",
            "|             4|    7|\n",
            "|             5|    3|\n",
            "|             7|   17|\n",
            "|            14|    2|\n",
            "|            15|    2|\n",
            "|            21|    1|\n",
            "|            28|    4|\n",
            "|            30|   10|\n",
            "|            90|   39|\n",
            "|            91|    2|\n",
            "|            92|   54|\n",
            "|            93|    1|\n",
            "|           180|    7|\n",
            "|           199|    1|\n",
            "|           200|    1|\n",
            "|           360|    1|\n",
            "|           365|    6|\n",
            "+--------------+-----+\n",
            "\n",
            "+--------------+-----+\n",
            "|minimum_nights|count|\n",
            "+--------------+-----+\n",
            "|             1|   33|\n",
            "|             2|    5|\n",
            "|             3|   10|\n",
            "|             4|    1|\n",
            "|             5|    4|\n",
            "|             6|   10|\n",
            "|             7|    7|\n",
            "|            10|    1|\n",
            "|            15|    4|\n",
            "|            22|    1|\n",
            "|            23|    1|\n",
            "|            27|    1|\n",
            "|            30|    5|\n",
            "|            80|    1|\n",
            "|            84|    1|\n",
            "|            85|    1|\n",
            "|            90|   12|\n",
            "|            92|   19|\n",
            "|           100|    1|\n",
            "|           180|   17|\n",
            "+--------------+-----+\n",
            "only showing top 20 rows\n",
            "\n"
          ]
        }
      ],
      "source": [
        "# Total frequency of nights people stay in various (popular) neighbourhood groups\n",
        "total_manhatten  = nei_group_nei_min_nights_schema.where((col(\"neighbourhood_group\")==\"Central Region\")).count()\n",
        "print(total_manhatten)\n",
        "# In Manhattan.\n",
        "manhattan_nei = nei_group_nei_min_nights_schema.where(col(\"neighbourhood_group\")==\"Central Region\").groupBy(\"minimum_nights\").count().sort(col(\"minimum_nights\").asc()).show()\n",
        "# In Brooklyn\n",
        "brooklyn_nei = nei_group_nei_min_nights_schema.where((col(\"neighbourhood_group\")==\"West Region\")).groupBy(\"minimum_nights\").count().sort(col(\"minimum_nights\").asc()).show()\n",
        "# In Queens\n",
        "queens_nei = nei_group_nei_min_nights_schema.where((col(\"neighbourhood_group\")==\"East Region\")).groupBy(\"minimum_nights\").count().sort(col(\"minimum_nights\").asc()).show()\n",
        "# In Bronx\n",
        "bronx_nei = nei_group_nei_min_nights_schema.where((col(\"neighbourhood_group\")==\"North-East Region\")).groupBy(\"minimum_nights\").count().sort(col(\"minimum_nights\").asc()).show()\n"
      ]
    },
    {
      "cell_type": "markdown",
      "metadata": {
        "colab_type": "text",
        "id": "QaiRUNjvfJbS"
      },
      "source": [
        "\n",
        "\n",
        "**43. Let us check the 'number_of_reviews' column. We can find out the most popular listings based on the number of reviews.**\n",
        "\n",
        "**Here we display top 20 records**"
      ]
    },
    {
      "cell_type": "code",
      "execution_count": 41,
      "metadata": {
        "colab": {
          "base_uri": "https://localhost:8080/",
          "height": 877
        },
        "colab_type": "code",
        "id": "w3IfKgO9ZU7S",
        "outputId": "05d3e643-9954-4a0a-ae1f-a8426e985df3"
      },
      "outputs": [
        {
          "name": "stderr",
          "output_type": "stream",
          "text": [
            "                                                                                \r"
          ]
        },
        {
          "name": "stdout",
          "output_type": "stream",
          "text": [
            "+--------------------+---------+-------------------+----------------+--------+---------+---------------+-----+--------------+-----------------+-----------------+------------------------------+----------------+---------------------+-------+\n",
            "|                name|  host_id|neighbourhood_group|   neighbourhood|latitude|longitude|      room_type|price|minimum_nights|number_of_reviews|reviews_per_month|calculated_host_listings_count|availability_365|number_of_reviews_ltm|license|\n",
            "+--------------------+---------+-------------------+----------------+--------+---------+---------------+-----+--------------+-----------------+-----------------+------------------------------+----------------+---------------------+-------+\n",
            "|Luxuriously Spaci...|  7642747|        East Region|           Bedok| 1.31936|103.91663|Entire home/apt|  139|            92|              369|             3.81|                             1|             239|                    0|   null|\n",
            "|Spacious room nea...| 44793532|     Central Region|       Toa Payoh| 1.33514|103.87622|   Private room|   50|             1|              354|             4.99|                             2|             300|                    0|   null|\n",
            "|       Central Haven| 21313007|     Central Region|         Tanglin| 1.29366|103.83006|Entire home/apt|  130|            14|              312|             3.57|                             1|             309|                    0|   null|\n",
            "|       The Lily Room| 30080617|        East Region|        Tampines|  1.3446|103.96223|   Private room|   60|            30|              296|             3.62|                             5|             175|                    0|   null|\n",
            "|   S5 @ City Central| 25116861|     Central Region|          Rochor| 1.30551|103.85604|Entire home/apt|   84|            92|              294|             3.54|                             4|              55|                    5|   null|\n",
            "|The Private Sanct...| 30080617|        East Region|        Tampines|  1.3464|103.96256|   Private room|   70|            90|              286|             3.53|                             5|             365|                    1|   null|\n",
            "|City room 5mins t...|  3234859|     Central Region|          Rochor| 1.30249|103.86035|   Private room|   64|             1|              274|              4.6|                             2|               0|                    5|   null|\n",
            "|Luxurious En Suit...| 28489587|     Central Region|          Novena|  1.3174|103.84796|   Private room|  129|             1|              266|             3.22|                             3|              55|                    0|   null|\n",
            "|Double Room, 5 Ho...|345145978|     Central Region|   Downtown Core| 1.29658|103.85595|   Private room|  134|             1|              265|            13.27|                             2|             364|                  118|  S0451|\n",
            "|Super Host Apartment|  5643415|     Central Region|    River Valley| 1.29245|103.83742|Entire home/apt|  200|             1|              255|             2.57|                             1|             332|                   43|   null|\n",
            "|Great location. A...| 65322694|     Central Region|         Kallang| 1.29896|103.86146|Entire home/apt|  139|             1|              253|              3.8|                             1|             224|                   15|   null|\n",
            "|   S2 @ City Central| 25116861|     Central Region|          Rochor| 1.30364|103.85485|Entire home/apt|   86|            92|              251|             3.02|                             4|              58|                   11|   null|\n",
            "|Cozy Sunset Home ...|  4723385|     Central Region|          Novena| 1.33389|103.83454|Entire home/apt|  120|            92|              247|             2.32|                             1|             144|                    0|   null|\n",
            "|  The Antiquity Room| 30080617|        East Region|        Tampines|   1.346| 103.9626|   Private room|   80|            90|              247|             3.04|                             5|             341|                    1|   null|\n",
            "|Apt Room 5mins to...|  3234859|     Central Region|         Kallang| 1.30617| 103.8612|   Private room|   80|             1|              233|             3.89|                             2|               0|                    0|   null|\n",
            "|3-5mins to Kovan ...| 63961060|  North-East Region|         Hougang| 1.36219|103.88276|   Private room|   38|             5|              227|             3.25|                             2|             135|                    5|   null|\n",
            "|Boat Quay Studio ...| 23336011|     Central Region| Singapore River| 1.28816|103.84826|Entire home/apt|  180|             1|              226|             2.62|                            55|             360|                   25|   null|\n",
            "|8 mins walk to Pa...| 76505816|     Central Region|         Geylang| 1.31176|103.89131|Entire home/apt|  147|            92|              224|             5.31|                             1|             336|                   54|   null|\n",
            "|Jo's Place Sentos...|170561338|     Central Region|Southern Islands| 1.24535|103.83867|Entire home/apt|  344|             1|              217|             6.24|                             1|               0|                   93| L12345|\n",
            "|Quaint & Chic Soh...| 46116154|     Central Region|   Marine Parade|  1.3072|103.90167|   Private room|   89|            30|              215|             2.86|                             1|               0|                    0|   null|\n",
            "+--------------------+---------+-------------------+----------------+--------+---------+---------------+-----+--------------+-----------------+-----------------+------------------------------+----------------+---------------------+-------+\n",
            "\n",
            "+--------------------+-------------------+----------------+---------------+-----------------+\n",
            "|                name|neighbourhood_group|   neighbourhood|      room_type|number_of_reviews|\n",
            "+--------------------+-------------------+----------------+---------------+-----------------+\n",
            "|Luxuriously Spaci...|        East Region|           Bedok|Entire home/apt|              369|\n",
            "|Spacious room nea...|     Central Region|       Toa Payoh|   Private room|              354|\n",
            "|       Central Haven|     Central Region|         Tanglin|Entire home/apt|              312|\n",
            "|       The Lily Room|        East Region|        Tampines|   Private room|              296|\n",
            "|   S5 @ City Central|     Central Region|          Rochor|Entire home/apt|              294|\n",
            "|The Private Sanct...|        East Region|        Tampines|   Private room|              286|\n",
            "|City room 5mins t...|     Central Region|          Rochor|   Private room|              274|\n",
            "|Luxurious En Suit...|     Central Region|          Novena|   Private room|              266|\n",
            "|Double Room, 5 Ho...|     Central Region|   Downtown Core|   Private room|              265|\n",
            "|Super Host Apartment|     Central Region|    River Valley|Entire home/apt|              255|\n",
            "|Great location. A...|     Central Region|         Kallang|Entire home/apt|              253|\n",
            "|   S2 @ City Central|     Central Region|          Rochor|Entire home/apt|              251|\n",
            "|Cozy Sunset Home ...|     Central Region|          Novena|Entire home/apt|              247|\n",
            "|  The Antiquity Room|        East Region|        Tampines|   Private room|              247|\n",
            "|Apt Room 5mins to...|     Central Region|         Kallang|   Private room|              233|\n",
            "|3-5mins to Kovan ...|  North-East Region|         Hougang|   Private room|              227|\n",
            "|Boat Quay Studio ...|     Central Region| Singapore River|Entire home/apt|              226|\n",
            "|8 mins walk to Pa...|     Central Region|         Geylang|Entire home/apt|              224|\n",
            "|Jo's Place Sentos...|     Central Region|Southern Islands|Entire home/apt|              217|\n",
            "|Quaint & Chic Soh...|     Central Region|   Marine Parade|   Private room|              215|\n",
            "+--------------------+-------------------+----------------+---------------+-----------------+\n",
            "\n"
          ]
        }
      ],
      "source": [
        "# 'number_of_reviews' column\n",
        "from operator import attrgetter\n",
        "data = airbnb_schema.rdd.top(20, attrgetter(\"number_of_reviews\"))\n",
        "most_reviewed_df = spark.sparkContext.parallelize(data).toDF()\n",
        "most_reviewed_df.show()\n",
        "most_reviewed_df.first()\n",
        "most_reviewed_df.select(\"name\", \"neighbourhood_group\", \"neighbourhood\", \"room_type\", \"number_of_reviews\").show()"
      ]
    },
    {
      "cell_type": "markdown",
      "metadata": {
        "colab_type": "text",
        "id": "Wws0IRpTzXO5"
      },
      "source": [
        "**44. The average price for the listing for the 20 most reviewed listings is $118.15.**"
      ]
    },
    {
      "cell_type": "code",
      "execution_count": 42,
      "metadata": {
        "colab": {
          "base_uri": "https://localhost:8080/",
          "height": 118
        },
        "colab_type": "code",
        "id": "5o8Ckoevf9Hi",
        "outputId": "2b8f1ee0-39b0-454a-f3e5-c39dc6059599"
      },
      "outputs": [
        {
          "name": "stdout",
          "output_type": "stream",
          "text": [
            "+----------+\n",
            "|avg(price)|\n",
            "+----------+\n",
            "|    118.15|\n",
            "+----------+\n",
            "\n"
          ]
        }
      ],
      "source": [
        "most_reviewed_df.agg(avg(\"price\")).show()"
      ]
    },
    {
      "cell_type": "markdown",
      "metadata": {
        "colab_type": "text",
        "id": "mzzKJSSOkTzF"
      },
      "source": [
        "**45. We will now look at the latitude and longitude columns in the dataset. We can take a look at how the listings are distributed across geography. This will also tell us that which geographic region shows promise for starting a new listing.**"
      ]
    },
    {
      "cell_type": "code",
      "execution_count": 43,
      "metadata": {
        "colab": {
          "base_uri": "https://localhost:8080/",
          "height": 380
        },
        "colab_type": "code",
        "id": "LJCPl72sfEJL",
        "outputId": "d61105a7-7e92-4625-ca5d-2e6cef5c19b3"
      },
      "outputs": [
        {
          "data": {
            "text/plain": [
              "<AxesSubplot:xlabel='longitude', ylabel='latitude'>"
            ]
          },
          "execution_count": 43,
          "metadata": {},
          "output_type": "execute_result"
        },
        {
          "data": {
            "image/png": "[encoded data removed]",
            "text/plain": [
              "<Figure size 720x432 with 2 Axes>"
            ]
          },
          "metadata": {
            "needs_background": "light"
          },
          "output_type": "display_data"
        }
      ],
      "source": [
        "import pandas as pd\n",
        "import matplotlib.pyplot as matp\n",
        "airbnb_schema_pd = airbnb_schema.toPandas()\n",
        "airbnb_schema_pd_trimmed = airbnb_schema_pd[airbnb_schema_pd['price'] < 500]\n",
        "airbnb_schema_pd_trimmed.plot.scatter(x='longitude', y='latitude', c='price', cmap=matp.get_cmap('viridis'), figsize=(10,6))"
      ]
    }
  ],
  "metadata": {
    "colab": {
      "collapsed_sections": [],
      "name": "Data_Analyis_1.ipynb",
      "provenance": []
    },
    "kernelspec": {
      "display_name": "Python 3 (ipykernel)",
      "language": "python",
      "name": "python3"
    },
    "language_info": {
      "codemirror_mode": {
        "name": "ipython",
        "version": 3
      },
      "file_extension": ".py",
      "mimetype": "text/x-python",
      "name": "python",
      "nbconvert_exporter": "python",
      "pygments_lexer": "ipython3",
      "version": "3.8.10"
    }
  },
  "nbformat": 4,
  "nbformat_minor": 0
}
